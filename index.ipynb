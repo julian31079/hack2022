{
 "cells": [
  {
   "cell_type": "code",
   "execution_count": 65,
   "metadata": {},
   "outputs": [],
   "source": [
    "import numpy as np\n",
    "import pandas as pd\n",
    "from sklearn.ensemble import RandomForestRegressor\n",
    "from skforecast.ForecasterAutoreg import ForecasterAutoreg\n",
    "import pymongo\n",
    "import datetime\n",
    "import matplotlib.pyplot as plt"
   ]
  },
  {
   "cell_type": "code",
   "execution_count": 9,
   "metadata": {},
   "outputs": [
    {
     "data": {
      "text/html": [
       "<div>\n",
       "<style scoped>\n",
       "    .dataframe tbody tr th:only-of-type {\n",
       "        vertical-align: middle;\n",
       "    }\n",
       "\n",
       "    .dataframe tbody tr th {\n",
       "        vertical-align: top;\n",
       "    }\n",
       "\n",
       "    .dataframe thead th {\n",
       "        text-align: right;\n",
       "    }\n",
       "</style>\n",
       "<table border=\"1\" class=\"dataframe\">\n",
       "  <thead>\n",
       "    <tr style=\"text-align: right;\">\n",
       "      <th></th>\n",
       "      <th>y</th>\n",
       "    </tr>\n",
       "    <tr>\n",
       "      <th>date</th>\n",
       "      <th></th>\n",
       "    </tr>\n",
       "  </thead>\n",
       "  <tbody>\n",
       "    <tr>\n",
       "      <th>1991-07-01</th>\n",
       "      <td>0.429795</td>\n",
       "    </tr>\n",
       "    <tr>\n",
       "      <th>1991-08-01</th>\n",
       "      <td>0.400906</td>\n",
       "    </tr>\n",
       "    <tr>\n",
       "      <th>1991-09-01</th>\n",
       "      <td>0.432159</td>\n",
       "    </tr>\n",
       "    <tr>\n",
       "      <th>1991-10-01</th>\n",
       "      <td>0.492543</td>\n",
       "    </tr>\n",
       "    <tr>\n",
       "      <th>1991-11-01</th>\n",
       "      <td>0.502369</td>\n",
       "    </tr>\n",
       "    <tr>\n",
       "      <th>...</th>\n",
       "      <td>...</td>\n",
       "    </tr>\n",
       "    <tr>\n",
       "      <th>2008-02-01</th>\n",
       "      <td>0.761822</td>\n",
       "    </tr>\n",
       "    <tr>\n",
       "      <th>2008-03-01</th>\n",
       "      <td>0.649435</td>\n",
       "    </tr>\n",
       "    <tr>\n",
       "      <th>2008-04-01</th>\n",
       "      <td>0.827887</td>\n",
       "    </tr>\n",
       "    <tr>\n",
       "      <th>2008-05-01</th>\n",
       "      <td>0.816255</td>\n",
       "    </tr>\n",
       "    <tr>\n",
       "      <th>2008-06-01</th>\n",
       "      <td>0.762137</td>\n",
       "    </tr>\n",
       "  </tbody>\n",
       "</table>\n",
       "<p>204 rows × 1 columns</p>\n",
       "</div>"
      ],
      "text/plain": [
       "                   y\n",
       "date                \n",
       "1991-07-01  0.429795\n",
       "1991-08-01  0.400906\n",
       "1991-09-01  0.432159\n",
       "1991-10-01  0.492543\n",
       "1991-11-01  0.502369\n",
       "...              ...\n",
       "2008-02-01  0.761822\n",
       "2008-03-01  0.649435\n",
       "2008-04-01  0.827887\n",
       "2008-05-01  0.816255\n",
       "2008-06-01  0.762137\n",
       "\n",
       "[204 rows x 1 columns]"
      ]
     },
     "execution_count": 9,
     "metadata": {},
     "output_type": "execute_result"
    }
   ],
   "source": [
    "url = ('https://raw.githubusercontent.com/JoaquinAmatRodrigo/skforecast/master/data/h2o.csv')\n",
    "data = pd.read_csv(url, sep=',', header=0, names=['y', 'date'])\n",
    "data['date'] = pd.to_datetime(data['date'], format='%Y/%m/%d')\n",
    "data = data.set_index('date')\n",
    "data = data.asfreq('MS')\n",
    "data"
   ]
  },
  {
   "cell_type": "code",
   "execution_count": 7,
   "metadata": {},
   "outputs": [],
   "source": [
    "forecaster = ForecasterAutoreg(\n",
    "                regressor = RandomForestRegressor(random_state=123),\n",
    "                lags = 5\n",
    "             )\n",
    "\n",
    "forecaster.fit(y=data['y'])"
   ]
  },
  {
   "cell_type": "code",
   "execution_count": 8,
   "metadata": {},
   "outputs": [
    {
     "data": {
      "text/plain": [
       "2008-07-01    0.714526\n",
       "2008-08-01    0.789144\n",
       "2008-09-01    0.818433\n",
       "2008-10-01    0.845027\n",
       "2008-11-01    0.914621\n",
       "Freq: MS, Name: pred, dtype: float64"
      ]
     },
     "execution_count": 8,
     "metadata": {},
     "output_type": "execute_result"
    }
   ],
   "source": [
    "forecaster.predict(steps=5)"
   ]
  },
  {
   "cell_type": "code",
   "execution_count": 25,
   "metadata": {},
   "outputs": [],
   "source": [
    "def calcPercentage(ls):\n",
    "    sum=0\n",
    "    for j in ls:\n",
    "        sum+=(j/len(ls))/5\n",
    "    return sum"
   ]
  },
  {
   "cell_type": "code",
   "execution_count": 59,
   "metadata": {},
   "outputs": [
    {
     "name": "stdout",
     "output_type": "stream",
     "text": [
      "{'id': '111', 'Nutritional': [{'date': '15-10-2022', 'value': 0.2}], 'Affect': [{'date': '15-10-2022', 'value': 0.56}], 'Func': [{'date': '15-10-2022', 'value': 0.72}]}\n"
     ]
    }
   ],
   "source": [
    "def makeProb(listNutricional,listAfectivo,listFuncional,id):\n",
    "    date = datetime.datetime.now().strftime(\"%d-%m-%Y\")\n",
    "    valueArray=np.array([1,2,3,4,5])\n",
    "    converterNutri= [valueArray[-i] for i in listNutricional]\n",
    "    converterAfect= [valueArray[-i] for i in listAfectivo]\n",
    "    converterFunc= [valueArray[-i] for i in listFuncional]\n",
    "    return {\"id\":id,\"Nutritional\":[{\"date\":date,\"value\":calcPercentage(converterNutri)}],\"Affect\":[{\"date\":date,\"value\":calcPercentage(converterAfect)}],\"Func\":[{\"date\":date,\"value\":calcPercentage(converterFunc)}]}\n",
    "\n",
    "print(makeProb([5,5,5,5,5],[2,3,2,4,5],[3,3,1,2,3],\"111\"))\n"
   ]
  },
  {
   "cell_type": "code",
   "execution_count": 64,
   "metadata": {},
   "outputs": [],
   "source": [
    "myclient = pymongo.MongoClient(\"mongodb://localhost:27017/\")\n",
    "mydb = myclient[\"local\"]\n",
    "collection = mydb[\"hosp\"]\n",
    "def addOne(req):\n",
    "    old=collection.find_one({\"id\":req[\"id\"]})\n",
    "    if(old is None):\n",
    "        collection.insert_one(req)\n",
    "    else:\n",
    "        old[\"Nutritional\"].append(req[\"Nutritional\"][0])\n",
    "        old[\"Affect\"].append(req[\"Affect\"][0])\n",
    "        old[\"Func\"].append(req[\"Func\"][0])\n",
    "        collection.update_one({\"id\":req[\"id\"]},{\"$set\":{\"Nutritional\":old[\"Nutritional\"],\"Affect\":old[\"Affect\"],\"Func\":old[\"Func\"]}})\n",
    "addOne(makeProb([5,5,5,5,5],[2,3,2,4,5],[3,3,1,2,3],\"1111\"))\n"
   ]
  },
  {
   "cell_type": "code",
   "execution_count": 68,
   "metadata": {},
   "outputs": [
    {
     "name": "stdout",
     "output_type": "stream",
     "text": [
      "{'_id': ObjectId('634b879a86baf58615ffe1b3'), 'id': '1111', 'Nutritional': [{'date': '15-10-2022', 'value': 0.2}], 'Affect': [{'date': '15-10-2022', 'value': 0.56}], 'Func': [{'date': '15-10-2022', 'value': 0.72}]}\n"
     ]
    },
    {
     "ename": "TypeError",
     "evalue": "list indices must be integers or slices, not str",
     "output_type": "error",
     "traceback": [
      "\u001b[0;31m---------------------------------------------------------------------------\u001b[0m",
      "\u001b[0;31mTypeError\u001b[0m                                 Traceback (most recent call last)",
      "Cell \u001b[0;32mIn [68], line 3\u001b[0m\n\u001b[1;32m      1\u001b[0m data\u001b[39m=\u001b[39mcollection\u001b[39m.\u001b[39mfind_one({\u001b[39m\"\u001b[39m\u001b[39mid\u001b[39m\u001b[39m\"\u001b[39m:\u001b[39m\"\u001b[39m\u001b[39m1111\u001b[39m\u001b[39m\"\u001b[39m})\n\u001b[1;32m      2\u001b[0m \u001b[39mprint\u001b[39m(data)\n\u001b[0;32m----> 3\u001b[0m plt\u001b[39m.\u001b[39mplot(data[\u001b[39m\"\u001b[39;49m\u001b[39mNutritional\u001b[39;49m\u001b[39m\"\u001b[39;49m][\u001b[39m\"\u001b[39;49m\u001b[39mdate\u001b[39;49m\u001b[39m\"\u001b[39;49m],data[\u001b[39m\"\u001b[39m\u001b[39mNutritional\u001b[39m\u001b[39m\"\u001b[39m][\u001b[39m\"\u001b[39m\u001b[39mvalue\u001b[39m\u001b[39m\"\u001b[39m])\n",
      "\u001b[0;31mTypeError\u001b[0m: list indices must be integers or slices, not str"
     ]
    }
   ],
   "source": [
    "data=collection.find_one({\"id\":\"1111\"})\n",
    "print(data)\n",
    "date=[d[\"date\"] for d in data[\"Nutritional\"]]\n",
    "plt.plot(data[\"Nutritional\"][\"date\"],data[\"Nutritional\"][\"value\"])\n"
   ]
  }
 ],
 "metadata": {
  "kernelspec": {
   "display_name": "Python 3.10.6 64-bit",
   "language": "python",
   "name": "python3"
  },
  "language_info": {
   "codemirror_mode": {
    "name": "ipython",
    "version": 3
   },
   "file_extension": ".py",
   "mimetype": "text/x-python",
   "name": "python",
   "nbconvert_exporter": "python",
   "pygments_lexer": "ipython3",
   "version": "3.10.6"
  },
  "orig_nbformat": 4,
  "vscode": {
   "interpreter": {
    "hash": "916dbcbb3f70747c44a77c7bcd40155683ae19c65e1c03b4aa3499c5328201f1"
   }
  }
 },
 "nbformat": 4,
 "nbformat_minor": 2
}
